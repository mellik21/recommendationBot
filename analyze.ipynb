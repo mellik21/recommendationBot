{
 "cells": [
  {
   "cell_type": "code",
   "execution_count": 46,
   "metadata": {},
   "outputs": [],
   "source": [
    "import pandas as pd\n",
    "import numpy as np"
   ]
  },
  {
   "cell_type": "code",
   "execution_count": 51,
   "metadata": {},
   "outputs": [
    {
     "name": "stdout",
     "output_type": "stream",
     "text": [
      "(1440, 10)\n"
     ]
    }
   ],
   "source": [
    "data = pd.read_csv('anime.csv')\n",
    "print(data.shape)"
   ]
  },
  {
   "cell_type": "code",
   "execution_count": 52,
   "metadata": {},
   "outputs": [],
   "source": [
    "#data"
   ]
  },
  {
   "cell_type": "code",
   "execution_count": 53,
   "metadata": {},
   "outputs": [
    {
     "data": {
      "text/html": [
       "<div>\n",
       "<style scoped>\n",
       "    .dataframe tbody tr th:only-of-type {\n",
       "        vertical-align: middle;\n",
       "    }\n",
       "\n",
       "    .dataframe tbody tr th {\n",
       "        vertical-align: top;\n",
       "    }\n",
       "\n",
       "    .dataframe thead th {\n",
       "        text-align: right;\n",
       "    }\n",
       "</style>\n",
       "<table border=\"1\" class=\"dataframe\">\n",
       "  <thead>\n",
       "    <tr style=\"text-align: right;\">\n",
       "      <th></th>\n",
       "      <th>Page</th>\n",
       "      <th>Rus_name</th>\n",
       "      <th>Eng_name</th>\n",
       "      <th>Href</th>\n",
       "      <th>Genres</th>\n",
       "      <th>Rating</th>\n",
       "      <th>Description</th>\n",
       "      <th>Imgs</th>\n",
       "      <th>Studios</th>\n",
       "      <th>Minor_names</th>\n",
       "    </tr>\n",
       "  </thead>\n",
       "  <tbody>\n",
       "    <tr>\n",
       "      <th>0</th>\n",
       "      <td>1</td>\n",
       "      <td>Стальной алхимик: Братство смотреть онлайн</td>\n",
       "      <td>Hagane no Renkinjutsushi (2009) / FMA (2009) с...</td>\n",
       "      <td>/catalog/hagane-no-renkinjutsushi-2009-2400</td>\n",
       "      <td>['Экшен', 'Военное', 'Приключения', 'Комедия',...</td>\n",
       "      <td>9.2</td>\n",
       "      <td>['Описание анимеРемейк одноимённого аниме-сери...</td>\n",
       "      <td>/posters/2400.10127424713.jpg</td>\n",
       "      <td>['/anime/studios/4-bones']</td>\n",
       "      <td>Стальной алхимик: Братство / Hagane no Renkinj...</td>\n",
       "    </tr>\n",
       "    <tr>\n",
       "      <th>1</th>\n",
       "      <td>1</td>\n",
       "      <td>Атака титанов: Финал смотреть онлайн</td>\n",
       "      <td>Shingeki no Kyojin: The Final Season смотреть ...</td>\n",
       "      <td>/catalog/anime-21166</td>\n",
       "      <td>[]</td>\n",
       "      <td>NaN</td>\n",
       "      <td>[]</td>\n",
       "      <td>NaN</td>\n",
       "      <td>[]</td>\n",
       "      <td>NaN</td>\n",
       "    </tr>\n",
       "    <tr>\n",
       "      <th>2</th>\n",
       "      <td>1</td>\n",
       "      <td>Врата Штейна смотреть онлайн</td>\n",
       "      <td>Steins;Gate смотреть онлайн</td>\n",
       "      <td>/catalog/steins-gate-914</td>\n",
       "      <td>['Фантастика', 'Триллер']</td>\n",
       "      <td>9.1</td>\n",
       "      <td>['Описание анимеДействие сериала происходит ле...</td>\n",
       "      <td>/posters/914.11477207553.jpg</td>\n",
       "      <td>['/anime/studios/314-white-fox']</td>\n",
       "      <td>Врата Штейна / シュタインズ・ゲート / Steins Gate / シュタイ...</td>\n",
       "    </tr>\n",
       "    <tr>\n",
       "      <th>3</th>\n",
       "      <td>1</td>\n",
       "      <td>Атака титанов 3. Часть 2 сезон смотреть онлайн</td>\n",
       "      <td>Shingeki no Kyojin Season 3 Part 2 / SnK3.5 см...</td>\n",
       "      <td>/catalog/anime-19608</td>\n",
       "      <td>[]</td>\n",
       "      <td>NaN</td>\n",
       "      <td>[]</td>\n",
       "      <td>NaN</td>\n",
       "      <td>[]</td>\n",
       "      <td>NaN</td>\n",
       "    </tr>\n",
       "    <tr>\n",
       "      <th>4</th>\n",
       "      <td>1</td>\n",
       "      <td>Гинтама 4 сезон смотреть онлайн</td>\n",
       "      <td>Gintama° смотреть онлайн</td>\n",
       "      <td>/catalog/gintama-9815</td>\n",
       "      <td>['Экшен', 'Комедия', 'Исторический', 'Пародия'...</td>\n",
       "      <td>9.1</td>\n",
       "      <td>['Описание анимеНикто этого уже не ждал и не н...</td>\n",
       "      <td>/posters/9815.35700322133.jpg</td>\n",
       "      <td>['/anime/studios/1258-bandai-namco-pictures']</td>\n",
       "      <td>Gintama° / Гинтама 4 / Gintama (2015) / 銀魂゜ / ...</td>\n",
       "    </tr>\n",
       "  </tbody>\n",
       "</table>\n",
       "</div>"
      ],
      "text/plain": [
       "   Page                                        Rus_name  \\\n",
       "0     1      Стальной алхимик: Братство смотреть онлайн   \n",
       "1     1            Атака титанов: Финал смотреть онлайн   \n",
       "2     1                    Врата Штейна смотреть онлайн   \n",
       "3     1  Атака титанов 3. Часть 2 сезон смотреть онлайн   \n",
       "4     1                 Гинтама 4 сезон смотреть онлайн   \n",
       "\n",
       "                                            Eng_name  \\\n",
       "0  Hagane no Renkinjutsushi (2009) / FMA (2009) с...   \n",
       "1  Shingeki no Kyojin: The Final Season смотреть ...   \n",
       "2                        Steins;Gate смотреть онлайн   \n",
       "3  Shingeki no Kyojin Season 3 Part 2 / SnK3.5 см...   \n",
       "4                           Gintama° смотреть онлайн   \n",
       "\n",
       "                                          Href  \\\n",
       "0  /catalog/hagane-no-renkinjutsushi-2009-2400   \n",
       "1                         /catalog/anime-21166   \n",
       "2                     /catalog/steins-gate-914   \n",
       "3                         /catalog/anime-19608   \n",
       "4                        /catalog/gintama-9815   \n",
       "\n",
       "                                              Genres  Rating  \\\n",
       "0  ['Экшен', 'Военное', 'Приключения', 'Комедия',...     9.2   \n",
       "1                                                 []     NaN   \n",
       "2                          ['Фантастика', 'Триллер']     9.1   \n",
       "3                                                 []     NaN   \n",
       "4  ['Экшен', 'Комедия', 'Исторический', 'Пародия'...     9.1   \n",
       "\n",
       "                                         Description  \\\n",
       "0  ['Описание анимеРемейк одноимённого аниме-сери...   \n",
       "1                                                 []   \n",
       "2  ['Описание анимеДействие сериала происходит ле...   \n",
       "3                                                 []   \n",
       "4  ['Описание анимеНикто этого уже не ждал и не н...   \n",
       "\n",
       "                            Imgs  \\\n",
       "0  /posters/2400.10127424713.jpg   \n",
       "1                            NaN   \n",
       "2   /posters/914.11477207553.jpg   \n",
       "3                            NaN   \n",
       "4  /posters/9815.35700322133.jpg   \n",
       "\n",
       "                                         Studios  \\\n",
       "0                     ['/anime/studios/4-bones']   \n",
       "1                                             []   \n",
       "2               ['/anime/studios/314-white-fox']   \n",
       "3                                             []   \n",
       "4  ['/anime/studios/1258-bandai-namco-pictures']   \n",
       "\n",
       "                                         Minor_names  \n",
       "0  Стальной алхимик: Братство / Hagane no Renkinj...  \n",
       "1                                                NaN  \n",
       "2  Врата Штейна / シュタインズ・ゲート / Steins Gate / シュタイ...  \n",
       "3                                                NaN  \n",
       "4  Gintama° / Гинтама 4 / Gintama (2015) / 銀魂゜ / ...  "
      ]
     },
     "execution_count": 53,
     "metadata": {},
     "output_type": "execute_result"
    }
   ],
   "source": [
    "data.head()"
   ]
  },
  {
   "cell_type": "markdown",
   "metadata": {},
   "source": [
    "### Необходимые изменения данных\n",
    "\n",
    " - Восстановить рейтинг аниме по его соседям и переписать все записи с нерабочими ссылками в отдельную таблицу      \n",
    " - Удалить \"смотреть онлайн\" после названия и \"Описание аниме\" перед описанием\n",
    " - Постараться выделить в отдельный столбец информацию о годе выпуска аниме по одному из названий \n",
    " - Постараться добавить столбец с номером сезона(нужно больше информации о формате)\n",
    " - Из нескольких английских названий оставить только одно, остальные добавить к альтернативным\n",
    " - Т.к. описаний может быть максимум 2: добавить доп.столбец для описания и разделить информацию из описаний на 2 столбца\n",
    " - Из ссылки на студию выделить только название(после номера и дефиса)\n"
   ]
  },
  {
   "cell_type": "code",
   "execution_count": null,
   "metadata": {},
   "outputs": [],
   "source": []
  },
  {
   "cell_type": "code",
   "execution_count": null,
   "metadata": {},
   "outputs": [],
   "source": []
  },
  {
   "cell_type": "code",
   "execution_count": null,
   "metadata": {},
   "outputs": [],
   "source": []
  },
  {
   "cell_type": "code",
   "execution_count": null,
   "metadata": {},
   "outputs": [],
   "source": []
  },
  {
   "cell_type": "code",
   "execution_count": null,
   "metadata": {},
   "outputs": [],
   "source": []
  },
  {
   "cell_type": "code",
   "execution_count": null,
   "metadata": {},
   "outputs": [],
   "source": []
  },
  {
   "cell_type": "code",
   "execution_count": null,
   "metadata": {},
   "outputs": [],
   "source": []
  },
  {
   "cell_type": "code",
   "execution_count": null,
   "metadata": {},
   "outputs": [],
   "source": []
  },
  {
   "cell_type": "code",
   "execution_count": null,
   "metadata": {},
   "outputs": [],
   "source": []
  }
 ],
 "metadata": {
  "kernelspec": {
   "display_name": "Python 3",
   "language": "python",
   "name": "python3"
  },
  "language_info": {
   "codemirror_mode": {
    "name": "ipython",
    "version": 3
   },
   "file_extension": ".py",
   "mimetype": "text/x-python",
   "name": "python",
   "nbconvert_exporter": "python",
   "pygments_lexer": "ipython3",
   "version": "3.8.3"
  }
 },
 "nbformat": 4,
 "nbformat_minor": 4
}
