{
 "cells": [
  {
   "cell_type": "code",
   "execution_count": 29,
   "metadata": {},
   "outputs": [],
   "source": [
    "import pandas as pd\n",
    "import numpy as np"
   ]
  },
  {
   "cell_type": "markdown",
   "metadata": {},
   "source": [
    "# Очистка данных"
   ]
  },
  {
   "cell_type": "code",
   "execution_count": 30,
   "metadata": {},
   "outputs": [
    {
     "name": "stdout",
     "output_type": "stream",
     "text": [
      "(64, 11)\n"
     ]
    }
   ],
   "source": [
    "data = pd.read_csv('anime.csv')\n",
    "print(data.shape)\n",
    "row, col = data.shape"
   ]
  },
  {
   "cell_type": "code",
   "execution_count": 31,
   "metadata": {},
   "outputs": [],
   "source": [
    "#data.head()"
   ]
  },
  {
   "cell_type": "markdown",
   "metadata": {},
   "source": [
    "### Необходимые изменения\n",
    "**Каких данных не хватает?**\n",
    " - Студия ✔\n",
    " - Год релиза ✔\n",
    " - Сезон релиза(время года) ✔\n",
    " - Номер сезона/части ✔\n",
    "\n",
    "\n",
    "**Какие данные лишние?**\n",
    " - \"смотреть онлайн\" в названиях ✔\n",
    " - заголовки перед описаниями ✔\n",
    "\n",
    "**Какие данные нуждаются в преобразованиях?**\n",
    " - Альтернативные названия сделать списком ✔\n",
    " - Жанры удобнее хранить в числовом виде (лучше заменить при записи)"
   ]
  },
  {
   "cell_type": "code",
   "execution_count": 32,
   "metadata": {},
   "outputs": [],
   "source": [
    "# удаляю \"смотреть онлайн\" после названий\n",
    "data['Rus_name'] = data['Rus_name'].str.split(\"смотреть онлайн\", n = 1, expand = True)[0]\n",
    "data['Eng_name'] = data['Eng_name'].str.split(\"смотреть онлайн\", n = 1, expand = True)[0]\n",
    "\n",
    "f_c = len(\"Описание аниме\")\n",
    "s_c = len(\"Альтернативное описание аниме\")\n",
    "# удаляю заголовки перед описаниями\n",
    "data['Description'] = data['Description'].str[f_c:]\n",
    "data['Alt_description'] = data['Alt_description'].str[s_c:]\n",
    "\n",
    "# Альтернативные названия преобразовываются в список\n",
    "data['Minor_names'] = data['Minor_names'].str.split('/').tolist()"
   ]
  },
  {
   "cell_type": "code",
   "execution_count": 33,
   "metadata": {},
   "outputs": [
    {
     "data": {
      "text/html": [
       "<div>\n",
       "<style scoped>\n",
       "    .dataframe tbody tr th:only-of-type {\n",
       "        vertical-align: middle;\n",
       "    }\n",
       "\n",
       "    .dataframe tbody tr th {\n",
       "        vertical-align: top;\n",
       "    }\n",
       "\n",
       "    .dataframe thead th {\n",
       "        text-align: right;\n",
       "    }\n",
       "</style>\n",
       "<table border=\"1\" class=\"dataframe\">\n",
       "  <thead>\n",
       "    <tr style=\"text-align: right;\">\n",
       "      <th></th>\n",
       "      <th>Page</th>\n",
       "      <th>Rus_name</th>\n",
       "      <th>Eng_name</th>\n",
       "      <th>Href</th>\n",
       "      <th>Genres</th>\n",
       "      <th>Rating</th>\n",
       "      <th>Description</th>\n",
       "      <th>Alt_description</th>\n",
       "      <th>Img</th>\n",
       "      <th>Minor_names</th>\n",
       "      <th>Additional</th>\n",
       "    </tr>\n",
       "  </thead>\n",
       "  <tbody>\n",
       "    <tr>\n",
       "      <th>0</th>\n",
       "      <td>1</td>\n",
       "      <td>Стальной алхимик: Братство</td>\n",
       "      <td>Hagane no Renkinjutsushi (2009) / FMA (2009)</td>\n",
       "      <td>/catalog/hagane-no-renkinjutsushi-2009-2400</td>\n",
       "      <td>['Экшен', 'Военное', 'Приключения', 'Комедия',...</td>\n",
       "      <td>9.2</td>\n",
       "      <td>Ремейк одноимённого аниме-сериала «Стальной ал...</td>\n",
       "      <td>Нарушив главный запрет Алхимии и попытавшись в...</td>\n",
       "      <td>/posters/2400.10127424713.jpg</td>\n",
       "      <td>[Стальной алхимик: Братство ,  Hagane no Renki...</td>\n",
       "      <td>На этой странице вы можете посмотреть аниме Ha...</td>\n",
       "    </tr>\n",
       "  </tbody>\n",
       "</table>\n",
       "</div>"
      ],
      "text/plain": [
       "   Page                     Rus_name  \\\n",
       "0     1  Стальной алхимик: Братство    \n",
       "\n",
       "                                        Eng_name  \\\n",
       "0  Hagane no Renkinjutsushi (2009) / FMA (2009)    \n",
       "\n",
       "                                          Href  \\\n",
       "0  /catalog/hagane-no-renkinjutsushi-2009-2400   \n",
       "\n",
       "                                              Genres  Rating  \\\n",
       "0  ['Экшен', 'Военное', 'Приключения', 'Комедия',...     9.2   \n",
       "\n",
       "                                         Description  \\\n",
       "0  Ремейк одноимённого аниме-сериала «Стальной ал...   \n",
       "\n",
       "                                     Alt_description  \\\n",
       "0  Нарушив главный запрет Алхимии и попытавшись в...   \n",
       "\n",
       "                             Img  \\\n",
       "0  /posters/2400.10127424713.jpg   \n",
       "\n",
       "                                         Minor_names  \\\n",
       "0  [Стальной алхимик: Братство ,  Hagane no Renki...   \n",
       "\n",
       "                                          Additional  \n",
       "0  На этой странице вы можете посмотреть аниме Ha...  "
      ]
     },
     "execution_count": 33,
     "metadata": {},
     "output_type": "execute_result"
    }
   ],
   "source": [
    "data.head(1)"
   ]
  },
  {
   "cell_type": "code",
   "execution_count": 34,
   "metadata": {},
   "outputs": [
    {
     "data": {
      "text/plain": [
       "'На этой странице вы можете посмотреть аниме Hagane no Renkinjutsushi (2009) онлайн и в хорошем качестве. Для начала просмотра выберите серию (см. выше). После выбора серии можно выбрать перевод (русская озвучка или субтитры). Если вам понравилось аниме Стальной алхимик: Братство, то советуем обратить внимание на жанры экшен, военное, приключения, а также комедия, драма, магия, фэнтези, сёнен. Ещё вы можете посмотреть другие аниме от студии Bones или другие аниме в весеннем сезоне 2009 года.'"
      ]
     },
     "execution_count": 34,
     "metadata": {},
     "output_type": "execute_result"
    }
   ],
   "source": [
    "data['Additional'][0]"
   ]
  },
  {
   "cell_type": "code",
   "execution_count": 35,
   "metadata": {},
   "outputs": [],
   "source": [
    "data['Additional'] = data['Additional'].str.split('.').tolist()\n",
    "data['Studio'], data['Season'],data['Year'],data['Season_name'],data['Seria_name']=(np.nan for _ in range(5))"
   ]
  },
  {
   "cell_type": "code",
   "execution_count": 36,
   "metadata": {},
   "outputs": [
    {
     "name": "stderr",
     "output_type": "stream",
     "text": [
      "<ipython-input-36-cdeef7b15cba>:11: SettingWithCopyWarning: \n",
      "A value is trying to be set on a copy of a slice from a DataFrame\n",
      "\n",
      "See the caveats in the documentation: https://pandas.pydata.org/pandas-docs/stable/user_guide/indexing.html#returning-a-view-versus-a-copy\n",
      "  data['Studio'][i] = last_sentence[0]\n",
      "/home/nastya/anaconda3/lib/python3.8/site-packages/pandas/core/indexing.py:671: SettingWithCopyWarning: \n",
      "A value is trying to be set on a copy of a slice from a DataFrame\n",
      "\n",
      "See the caveats in the documentation: https://pandas.pydata.org/pandas-docs/stable/user_guide/indexing.html#returning-a-view-versus-a-copy\n",
      "  self._setitem_with_indexer(indexer, value)\n",
      "<ipython-input-36-cdeef7b15cba>:12: SettingWithCopyWarning: \n",
      "A value is trying to be set on a copy of a slice from a DataFrame\n",
      "\n",
      "See the caveats in the documentation: https://pandas.pydata.org/pandas-docs/stable/user_guide/indexing.html#returning-a-view-versus-a-copy\n",
      "  data['Season'][i] = last_sentence[1]\n",
      "<ipython-input-36-cdeef7b15cba>:13: SettingWithCopyWarning: \n",
      "A value is trying to be set on a copy of a slice from a DataFrame\n",
      "\n",
      "See the caveats in the documentation: https://pandas.pydata.org/pandas-docs/stable/user_guide/indexing.html#returning-a-view-versus-a-copy\n",
      "  data['Year'][i] = last_sentence[2]\n",
      "<ipython-input-36-cdeef7b15cba>:32: SettingWithCopyWarning: \n",
      "A value is trying to be set on a copy of a slice from a DataFrame\n",
      "\n",
      "See the caveats in the documentation: https://pandas.pydata.org/pandas-docs/stable/user_guide/indexing.html#returning-a-view-versus-a-copy\n",
      "  data['Seria_name'][i] = result_name\n",
      "<ipython-input-36-cdeef7b15cba>:33: SettingWithCopyWarning: \n",
      "A value is trying to be set on a copy of a slice from a DataFrame\n",
      "\n",
      "See the caveats in the documentation: https://pandas.pydata.org/pandas-docs/stable/user_guide/indexing.html#returning-a-view-versus-a-copy\n",
      "  data['Season_name'][i] = season_name\n"
     ]
    }
   ],
   "source": [
    "for i in range(0,row):\n",
    "    last_sentence = data['Additional'][i][-2]\n",
    "\n",
    "    last_sentence = last_sentence.replace(\" Ещё вы можете посмотреть другие аниме от студии \",\"\")\n",
    "    last_sentence = last_sentence.replace(\" или другие аниме в \",\";\")\n",
    "    last_sentence = last_sentence.replace(\" сезоне \",\";\")\n",
    "    last_sentence = last_sentence.replace(\" года\",\"\")\n",
    "    last_sentence = last_sentence.split(';')\n",
    "\n",
    "    #проверить что ; работает правильно\n",
    "    data['Studio'][i] = last_sentence[0]\n",
    "    data['Season'][i] = last_sentence[1]\n",
    "    data['Year'][i] = last_sentence[2]\n",
    "    \n",
    "    #информация о сезоне\n",
    "    rus_name = data['Rus_name'][i] \n",
    "    rus_name = rus_name.replace(':',' : ')\n",
    "    rus_name = rus_name.split(' ')\n",
    "    \n",
    "    season_name = np.NaN\n",
    "    result_name = data['Rus_name'][i]\n",
    "    \n",
    "    \n",
    "    if 'сезон' in rus_name:\n",
    "        season_name = rus_name[rus_name.index('сезон')-1]\n",
    "        result_name = result_name[:-(7+len(season_name))]  \n",
    "    elif ':' in rus_name:\n",
    "        splitted_name = result_name.split(':')\n",
    "        result_name= splitted_name[0]\n",
    "        season_name = splitted_name[1]\n",
    "        \n",
    "    data['Seria_name'][i] = result_name\n",
    "    data['Season_name'][i] = season_name"
   ]
  },
  {
   "cell_type": "code",
   "execution_count": 37,
   "metadata": {},
   "outputs": [],
   "source": [
    "#удаляем столбец тк. он больше не несет полезной информации\n",
    "del data['Additional']"
   ]
  },
  {
   "cell_type": "code",
   "execution_count": 38,
   "metadata": {},
   "outputs": [],
   "source": [
    "data.to_csv('cleaned_anime.csv', index=False, encoding='utf-8')"
   ]
  },
  {
   "cell_type": "code",
   "execution_count": 39,
   "metadata": {},
   "outputs": [],
   "source": [
    "data = pd.read_csv('cleaned_anime.csv')"
   ]
  },
  {
   "cell_type": "code",
   "execution_count": 40,
   "metadata": {},
   "outputs": [
    {
     "data": {
      "text/plain": [
       "1989.0"
      ]
     },
     "execution_count": 40,
     "metadata": {},
     "output_type": "execute_result"
    }
   ],
   "source": [
    "data.Year[5]"
   ]
  },
  {
   "cell_type": "markdown",
   "metadata": {},
   "source": [
    "# Визуализация"
   ]
  },
  {
   "cell_type": "markdown",
   "metadata": {},
   "source": [
    "**Что было бы интересно узнать?**\n",
    " - Распределение по жанрам(сколько всего записей для каждого жанра существует)\n",
    " - Серии с наибольшим числом сезонов(в каких сериях больше всего сезонов(можно считать от 2х)\n",
    " - Какой временной промежуток представлен, временной ряд с числом аниме (с учетом сезонов)\n",
    " - Распределение по рейтингам (в каком промежутке рейтинга находится большее число аниме)\n",
    " - Распределение по студиям (отношение студии и числа выпущенных аниме)\n"
   ]
  },
  {
   "cell_type": "code",
   "execution_count": null,
   "metadata": {},
   "outputs": [],
   "source": []
  },
  {
   "cell_type": "code",
   "execution_count": null,
   "metadata": {},
   "outputs": [],
   "source": []
  },
  {
   "cell_type": "code",
   "execution_count": null,
   "metadata": {},
   "outputs": [],
   "source": []
  },
  {
   "cell_type": "code",
   "execution_count": null,
   "metadata": {},
   "outputs": [],
   "source": []
  }
 ],
 "metadata": {
  "kernelspec": {
   "display_name": "Python 3",
   "language": "python",
   "name": "python3"
  },
  "language_info": {
   "codemirror_mode": {
    "name": "ipython",
    "version": 3
   },
   "file_extension": ".py",
   "mimetype": "text/x-python",
   "name": "python",
   "nbconvert_exporter": "python",
   "pygments_lexer": "ipython3",
   "version": "3.8.3"
  }
 },
 "nbformat": 4,
 "nbformat_minor": 4
}
